{
 "cells": [
  {
   "cell_type": "markdown",
   "metadata": {},
   "source": [
    "Object Oriented Programming in Python"
   ]
  },
  {
   "cell_type": "markdown",
   "metadata": {},
   "source": [
    "Definitions:\n",
    "\n",
    "=> Class: template for creating objects. All objects created using the same class will have the same characteristics.\n",
    "=> Object: an instance of a class.\n",
    "=> Instantiate: create an instance of a class.\n",
    "=> Method: a function defined in a class.\n",
    "=> Attribute: a variable bound to an instance of a class.\n",
    "=> self: It's a refernce to the instance of the class.\n",
    "* Main difference between method and a function is the presence of self parameter in method.\n",
    "=> Constructor: It refers to a special method that is executed when an instance of class is created or constructed , in Python this is the init method.\n"
   ]
  },
  {
   "cell_type": "code",
   "execution_count": 15,
   "metadata": {},
   "outputs": [],
   "source": [
    "class Kettle(object):\n",
    "\n",
    "    power_source = \"Electricity\"\n",
    "    # Using this we're showing that now all instances share a single version of this class attribute.\n",
    "\n",
    "    def __init__(self, make, price):\n",
    "        self.make = make\n",
    "        self.price = price\n",
    "        self.on = False\n",
    "\n",
    "    def switch_on(self):\n",
    "        self.on = True"
   ]
  },
  {
   "cell_type": "code",
   "execution_count": 16,
   "metadata": {},
   "outputs": [
    {
     "name": "stdout",
     "output_type": "stream",
     "text": [
      "Models == milton: 456, cello: 356\n",
      "Models: milton = 456, cello = 356\n"
     ]
    }
   ],
   "source": [
    "milton = Kettle(\"milton\", 456)\n",
    "cello = Kettle(\"cello\", 356)\n",
    "\n",
    "print(\"Models == {}: {}, {}: {}\".format(milton.make, milton.price, cello.make, cello.price))\n",
    "print(\"Models: {0.make} = {0.price}, {1.make} = {1.price}\".format(milton, cello))"
   ]
  },
  {
   "cell_type": "code",
   "execution_count": 17,
   "metadata": {},
   "outputs": [
    {
     "name": "stdout",
     "output_type": "stream",
     "text": [
      "False\n",
      "True\n",
      "True\n"
     ]
    }
   ],
   "source": [
    "print(milton.on) \n",
    "# Output: False\n",
    "milton.switch_on()\n",
    "print(milton.on)\n",
    "# True\n",
    "Kettle.switch_on(milton)\n",
    "print(milton.on)\n",
    "# True"
   ]
  },
  {
   "cell_type": "code",
   "execution_count": null,
   "metadata": {},
   "outputs": [],
   "source": [
    "milton.power = 1.5\n",
    "print(milton.power)\n",
    "# Output: 1.5\n",
    "print(cello.power)\n",
    "# Error: 'Kettle' object has no attribute 'power'. Since we didn't created power for object \"cello\"."
   ]
  },
  {
   "cell_type": "code",
   "execution_count": 19,
   "metadata": {},
   "outputs": [
    {
     "name": "stdout",
     "output_type": "stream",
     "text": [
      "Electricity\n",
      "Electricity\n"
     ]
    }
   ],
   "source": [
    "print(Kettle.power_source)\n",
    "# Electricity\n",
    "print(milton.power_source)\n",
    "# Electricity"
   ]
  },
  {
   "cell_type": "code",
   "execution_count": 30,
   "metadata": {},
   "outputs": [
    {
     "name": "stdout",
     "output_type": "stream",
     "text": [
      "{'__module__': '__main__', 'power_source': 'atomic power', '__init__': <function Kettle.__init__ at 0x00000187E70D04C0>, 'switch_on': <function Kettle.switch_on at 0x00000187E70D0790>, '__dict__': <attribute '__dict__' of 'Kettle' objects>, '__weakref__': <attribute '__weakref__' of 'Kettle' objects>, '__doc__': None}\n",
      "{'make': 'milton', 'price': 456, 'on': True, 'power_source': 'Solar energy'}\n",
      "atomic power\n",
      "Solar energy\n"
     ]
    }
   ],
   "source": [
    "Kettle.power_source = \"atomic power\"\n",
    "print(Kettle.__dict__)\n",
    "print(milton.__dict__)\n",
    "\n",
    "milton.power_source = \"Solar energy\"\n",
    "print(Kettle.power_source)\n",
    "# atomic power\n",
    "print(milton.power_source)\n",
    "# Solar energy\n",
    "# Here Python a new local variable which shattered global var. "
   ]
  },
  {
   "cell_type": "markdown",
   "metadata": {},
   "source": [
    "Simple Account class with balance"
   ]
  },
  {
   "cell_type": "code",
   "execution_count": 7,
   "metadata": {},
   "outputs": [
    {
     "name": "stdout",
     "output_type": "stream",
     "text": [
      "Account created for Priyansh\n",
      "Balance is 0\n",
      "Balance is 1000\n",
      "Balance is 621\n",
      "Amount not valid !\n",
      "Balance is 621\n",
      "  1000 deposited on 2022-02-19 06:48:40.638076+00:00 (local time was 2022-02-19 12:18:40.638076+05:30 )\n"
     ]
    }
   ],
   "source": [
    "import pytz\n",
    "import datetime\n",
    "class Account:\n",
    "\n",
    "    def __init__(self, name, balance):\n",
    "        self.name = name\n",
    "        self.balance = balance\n",
    "        self.transaction_list =  [] \n",
    "        print(\"Account created for \" + self.name)\n",
    "\n",
    "    def deposit(self, amount):\n",
    "        if amount > 0:\n",
    "            self.balance += amount\n",
    "            self.show_balance()\n",
    "            self.transaction_list.append((pytz.utc.localize(datetime.datetime.utcnow()), amount))\n",
    "\n",
    "    def withdraw(self, amount):\n",
    "        if 0 < amount <= self.balance :\n",
    "            self.balance -= amount\n",
    "        else:\n",
    "            print(\"Amount not valid !\")\n",
    "        self.show_balance()\n",
    "\n",
    "    def show_balance(self):\n",
    "        print(f\"Balance is {self.balance}\")\n",
    "\n",
    "    def show_transactions(self):\n",
    "        for date, amount in self.transaction_list:\n",
    "            if amount > 0:\n",
    "                tran_type = \"deposited\"\n",
    "            else:\n",
    "                tran_type = \"withdrawn\"\n",
    "                amount *= -1\n",
    "            print(\"{:6} {} on {} (local time was {} )\".format(amount, tran_type, date, date.astimezone()))\n",
    "\n",
    "# Whenever we want to refer to the data attributes  we have to use \"self.\" to access it.\n",
    "if __name__ == \"__main__\" :\n",
    "    \n",
    "    priyansh = Account(\"Priyansh\", 0)\n",
    "    priyansh.show_balance()\n",
    "    priyansh.deposit(1000)\n",
    "    priyansh.withdraw(379)\n",
    "    priyansh.withdraw(999)\n",
    "    priyansh.show_transactions()\n",
    "    \n",
    "\n",
    "\n"
   ]
  },
  {
   "cell_type": "code",
   "execution_count": null,
   "metadata": {},
   "outputs": [],
   "source": [
    "class Song:\n",
    "    \"\"\"Class to represent a song\n",
    "\n",
    "    Attributes:\n",
    "        title (str): The title of the song\n",
    "        artist (Artist): An artist object representing the songs creator.\n",
    "        duration (int): The duration of the song in seconds.  May be zero\n",
    "    \"\"\"\n",
    "    def __init__(self, title, artist, duration = 0):\n",
    "        \"\"\"Song init method\n",
    "\n",
    "        Args:\n",
    "            title (str): Initialises the 'title' attribute\n",
    "            artist (Artist): At Artist object representing the song's creator.\n",
    "            duration (Optional[int]: Initial value for the 'duration' attribute.\n",
    "                Will defaulkt to zero if not specified.\n",
    "        \"\"\"\n",
    "        self.title = title\n",
    "        self.artist = artist\n",
    "        self.duration = duration\n"
   ]
  }
 ],
 "metadata": {
  "interpreter": {
   "hash": "67d20fdf849e5e571e4e839e9d59383528387ef2dce7dfec2b5e39ad9693f9b3"
  },
  "kernelspec": {
   "display_name": "Python 3.8.8 ('base')",
   "language": "python",
   "name": "python3"
  },
  "language_info": {
   "codemirror_mode": {
    "name": "ipython",
    "version": 3
   },
   "file_extension": ".py",
   "mimetype": "text/x-python",
   "name": "python",
   "nbconvert_exporter": "python",
   "pygments_lexer": "ipython3",
   "version": "3.9.9"
  },
  "orig_nbformat": 4
 },
 "nbformat": 4,
 "nbformat_minor": 2
}
